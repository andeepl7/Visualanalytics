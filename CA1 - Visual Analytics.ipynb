{
 "cells": [
  {
   "cell_type": "markdown",
   "id": "cd8727cb",
   "metadata": {},
   "source": [
    "# Question 4: SQL and Python\n",
    "Bike rental company"
   ]
  },
  {
   "cell_type": "markdown",
   "id": "2238dc3f",
   "metadata": {},
   "source": [
    "# Code Section"
   ]
  },
  {
   "cell_type": "code",
   "execution_count": 1,
   "id": "a4ecd682",
   "metadata": {},
   "outputs": [],
   "source": [
    "import sqlite3\n",
    "\n",
    "#It is important to maintain the database file in the same folder of this jupyter notebook\n",
    "db = sqlite3.connect(\"bikecompany.db\") \n",
    "db.isolation_level = None\n",
    "\n",
    "\"\"\"\n",
    "\n",
    "This function retrieves the total distance that the specified user has driven. E.g.\n",
    "print(\"Test 1:\", distance_of_user(\"user123\"))\n",
    "and if implemented correctly it should output:\n",
    "Test 1: 130160\n",
    "\n",
    "\"\"\"\n",
    "\n",
    "def distance_of_user(user):\n",
    "    dist_of_user = db.execute(\n",
    "        f\"\"\"SELECT SUM(distance)\n",
    "        FROM Trips \n",
    "        INNER JOIN Users ON Trips.user_id = Users.id \n",
    "        WHERE Users.name=?;\"\"\", [user]).fetchone()\n",
    "    return print(f'In total, the {user} has driven {dist_of_user[0]} meters')\n",
    "\n",
    "\n",
    "\"\"\"\n",
    "This function retrieves the average speed for all trips driven by a specific user rounding to two decimal spaces. E.g.\n",
    "print(\"Test 2:\", speed_of_user(\"user123\"))\n",
    "and if implemented correctly it should output:\n",
    "Test 2: 17.35\n",
    "\"\"\"\n",
    "\n",
    "\n",
    "def speed_of_user(user):\n",
    "    avg_spd_of_user = db.execute(\n",
    "        f\"\"\"SELECT ROUND((all_distance / all_duration),2)\n",
    "        FROM (SELECT Users.name,SUM(distance)/1000.00 all_distance,SUM(duration)/60.00 all_duration\n",
    "        FROM Trips\n",
    "        INNER JOIN Users ON Users.id = Trips.user_id\n",
    "        WHERE Users.name=?);\"\"\", [user]).fetchone()\n",
    "    return print(f'The average speed for all trips driven by {user} is {avg_spd_of_user[0]} km/h.')\n",
    "\n",
    "\n",
    "\"\"\"\n",
    "\n",
    "This function retrieves for each city how long all bikes in the city were driven in total during the given day. E.g.\n",
    "print(\"Test 3:\", duration_in_each_city(\"2021-06-01\"))\n",
    "and if implemented correctly it should output:\n",
    "Test 3: [('city1', 58655), ('city10', 59296), ('city2', 60947)…]\n",
    "\"\"\"\n",
    "\n",
    "\n",
    "def duration_in_each_city(day):\n",
    "    dur_in_city_per_day = db.execute(\n",
    "        f\"\"\"SELECT C.name, SUM(T.duration)\n",
    "        FROM Bikes B, Trips T, Cities C\n",
    "        WHERE B.city_id = C.id AND B.id = T.bike_id AND T.day=?\n",
    "        GROUP BY C.id LIMIT 10\"\"\", [day]).fetchall()\n",
    "    listcities = dur_in_city_per_day\n",
    "    for row in listcities:\n",
    "        print(f\"In the {row[0]},the bikes were driven: {row[1]} min.\")\n",
    "\n",
    "\n",
    "\"\"\"\n",
    "\n",
    "This function retrieves for how many different users used the bikes in the given city. E.g\n",
    "print(\"Test 4:\", users_in_city(\"city5\"))\n",
    "and if implemented correctly it should output:\n",
    "Test 4: 43102\n",
    "\n",
    "\"\"\"\n",
    "\n",
    "\n",
    "def users_in_city(city):\n",
    "    users_city = db.execute(\n",
    "        f\"\"\"SELECT COUNT(DISTINCT user_id), cities.name\n",
    "        FROM Trips\n",
    "        INNER JOIN Stops ON Trips.from_id = Stops.id\n",
    "        INNER JOIN Cities ON Stops.city_id = Cities.id\n",
    "        WHERE cities.name=?\n",
    "        GROUP BY cities.name\"\"\", [city]).fetchone()\n",
    "    return print(f'The trips made in the {city} are {users_city[0]}')\n",
    "\n",
    "\n",
    "\"\"\"\n",
    "\n",
    "This function retrieves how many trips were driven each day in the given city.\n",
    "print(\"Test 5:\", trips_on_each_day(\"city5\"))\n",
    "and if implemented correctly it should output:\n",
    "Test 5: [('2021-06-01', 3362), ('2021-06-02', 3345),…]\n",
    "\n",
    "\"\"\"\n",
    "\n",
    "def trips_on_each_day(city):\n",
    "    trips_in_aCity_each_day = db.execute(\n",
    "         f\"\"\"SELECT day, COUNT(id)\n",
    "         FROM Trips \n",
    "         WHERE from_id IN (SELECT Stops.id \n",
    "                           FROM Cities, Stops\n",
    "                           WHERE Cities.id = Stops.city_id AND Cities.name=?)\n",
    "                           GROUP BY day\"\"\", [city]).fetchall()\n",
    "   \n",
    "    return print(trips_in_aCity_each_day)\n",
    "\n",
    "\"\"\"\n",
    "\n",
    "This function retrieves the most popular starting location and the number of trips starting from that stop.\n",
    "print(\"Test 6:\", most_popular_start(\"city5\"))\n",
    "and if implemented correctly it should output:\n",
    "Test 6: ('stop419', 1073)\n",
    "\n",
    "\"\"\"\n",
    "\n",
    "\n",
    "def most_popular_start(city):\n",
    "    stop_popular = db.execute(\n",
    "    f\"\"\"SELECT STOP, MAX(travelsmade), City\n",
    "    FROM(SELECT Stops.name STOP, Cities.name City, COUNT(DISTINCT Trips.id) AS travelsmade\n",
    "    FROM Trips\n",
    "    INNER JOIN Stops ON Trips.from_id = Stops.id\n",
    "    INNER JOIN Cities ON Stops.city_id = Cities.id\n",
    "    GROUP BY Stops.name)\n",
    "    WHERE City=?\"\"\", [city]).fetchone()\n",
    "    return print(f'The most popular stop of the {city} is: {stop_popular[0]} with {stop_popular[1]} stops')"
   ]
  },
  {
   "cell_type": "markdown",
   "id": "65660a4f",
   "metadata": {},
   "source": [
    "# Testing Section"
   ]
  },
  {
   "cell_type": "code",
   "execution_count": 2,
   "id": "81b5a9b9",
   "metadata": {},
   "outputs": [],
   "source": [
    "if __name__ == \"__main__\":\n",
    "    test_user = \"user123\"\n",
    "    test_city = 'city5'\n",
    "    test_day = \"2021-06-01\""
   ]
  },
  {
   "cell_type": "markdown",
   "id": "687ced7d",
   "metadata": {},
   "source": [
    "Function 1"
   ]
  },
  {
   "cell_type": "code",
   "execution_count": 3,
   "id": "bbaf32d5",
   "metadata": {},
   "outputs": [
    {
     "name": "stdout",
     "output_type": "stream",
     "text": [
      "In total, the user123 has driven 130160 meters\n"
     ]
    }
   ],
   "source": [
    "distance_of_user(test_user)"
   ]
  },
  {
   "cell_type": "markdown",
   "id": "d185882e",
   "metadata": {},
   "source": [
    "Function 2"
   ]
  },
  {
   "cell_type": "code",
   "execution_count": 4,
   "id": "5f051ce0",
   "metadata": {},
   "outputs": [
    {
     "name": "stdout",
     "output_type": "stream",
     "text": [
      "The average speed for all trips driven by user123 is 17.35 km/h.\n"
     ]
    }
   ],
   "source": [
    "speed_of_user(test_user)"
   ]
  },
  {
   "cell_type": "markdown",
   "id": "db557083",
   "metadata": {},
   "source": [
    "Function 3"
   ]
  },
  {
   "cell_type": "code",
   "execution_count": 5,
   "id": "e09bf72c",
   "metadata": {},
   "outputs": [
    {
     "name": "stdout",
     "output_type": "stream",
     "text": [
      "In the city1,the bikes were driven: 58655 min.\n",
      "In the city2,the bikes were driven: 60947 min.\n",
      "In the city3,the bikes were driven: 59470 min.\n",
      "In the city4,the bikes were driven: 57488 min.\n",
      "In the city5,the bikes were driven: 59829 min.\n",
      "In the city6,the bikes were driven: 59925 min.\n",
      "In the city7,the bikes were driven: 57403 min.\n",
      "In the city8,the bikes were driven: 59354 min.\n",
      "In the city9,the bikes were driven: 59749 min.\n",
      "In the city10,the bikes were driven: 59296 min.\n"
     ]
    }
   ],
   "source": [
    "duration_in_each_city(test_day)"
   ]
  },
  {
   "cell_type": "markdown",
   "id": "53eafbfb",
   "metadata": {},
   "source": [
    "Function 4"
   ]
  },
  {
   "cell_type": "code",
   "execution_count": 6,
   "id": "ffd229d1",
   "metadata": {},
   "outputs": [
    {
     "name": "stdout",
     "output_type": "stream",
     "text": [
      "The trips made in the city5 are 43102\n"
     ]
    }
   ],
   "source": [
    "users_in_city(test_city)"
   ]
  },
  {
   "cell_type": "markdown",
   "id": "7a3cfe63",
   "metadata": {},
   "source": [
    "Function 5"
   ]
  },
  {
   "cell_type": "code",
   "execution_count": 7,
   "id": "882843c2",
   "metadata": {},
   "outputs": [
    {
     "name": "stdout",
     "output_type": "stream",
     "text": [
      "[('2021-06-01', 3362), ('2021-06-02', 3345), ('2021-06-03', 3313), ('2021-06-04', 3276), ('2021-06-05', 3376), ('2021-06-06', 3365), ('2021-06-07', 3351), ('2021-06-08', 3355), ('2021-06-09', 3284), ('2021-06-10', 3324), ('2021-06-11', 3272), ('2021-06-12', 3399), ('2021-06-13', 3308), ('2021-06-14', 3287), ('2021-06-15', 3266), ('2021-06-16', 3376), ('2021-06-17', 3321), ('2021-06-18', 3390), ('2021-06-19', 3320), ('2021-06-20', 3319), ('2021-06-21', 3303), ('2021-06-22', 3429), ('2021-06-23', 3234), ('2021-06-24', 3305), ('2021-06-25', 3260), ('2021-06-26', 3350), ('2021-06-27', 3196), ('2021-06-28', 3222), ('2021-06-29', 3252), ('2021-06-30', 3439)]\n"
     ]
    }
   ],
   "source": [
    "trips_on_each_day(test_city)"
   ]
  },
  {
   "cell_type": "markdown",
   "id": "3e08d81e",
   "metadata": {},
   "source": [
    "Function 6"
   ]
  },
  {
   "cell_type": "code",
   "execution_count": 8,
   "id": "7697e70c",
   "metadata": {},
   "outputs": [
    {
     "name": "stdout",
     "output_type": "stream",
     "text": [
      "The most popular stop of the city5 is: stop419 with 1073 stops\n"
     ]
    }
   ],
   "source": [
    "most_popular_start(test_city)"
   ]
  },
  {
   "cell_type": "markdown",
   "id": "7b810d3e",
   "metadata": {},
   "source": [
    "# Try another day, cities or users"
   ]
  },
  {
   "cell_type": "markdown",
   "id": "2453bbf7",
   "metadata": {},
   "source": [
    "Function 1"
   ]
  },
  {
   "cell_type": "code",
   "execution_count": 9,
   "id": "619dbe5e",
   "metadata": {},
   "outputs": [
    {
     "name": "stdout",
     "output_type": "stream",
     "text": [
      "\n",
      "DISTANCE TRAVELLED BY USER\n",
      "Enter the name of the user:user123\n",
      "In total, the user123 has driven 130160 meters\n"
     ]
    }
   ],
   "source": [
    "print('\\nDISTANCE TRAVELLED BY USER')\n",
    "name1 = input('Enter the name of the user:')\n",
    "distance_of_user(name1)"
   ]
  },
  {
   "cell_type": "markdown",
   "id": "38a9c68c",
   "metadata": {},
   "source": [
    "Function 2"
   ]
  },
  {
   "cell_type": "code",
   "execution_count": 10,
   "id": "6cadd760",
   "metadata": {},
   "outputs": [
    {
     "name": "stdout",
     "output_type": "stream",
     "text": [
      "\n",
      "AVERAGE SPEED OF THE USER\n",
      "Enter the name of the user:user123\n",
      "The average speed for all trips driven by user123 is 17.35 km/h.\n"
     ]
    }
   ],
   "source": [
    "print('\\nAVERAGE SPEED OF THE USER')\n",
    "name2 = input('Enter the name of the user:')\n",
    "speed_of_user(name2)"
   ]
  },
  {
   "cell_type": "markdown",
   "id": "584aa0f2",
   "metadata": {},
   "source": [
    "Function 3"
   ]
  },
  {
   "cell_type": "code",
   "execution_count": 11,
   "id": "1d726b1f",
   "metadata": {},
   "outputs": [
    {
     "name": "stdout",
     "output_type": "stream",
     "text": [
      "\n",
      "DURATION IN EACH CITY\n",
      "Enter the day:202\n"
     ]
    }
   ],
   "source": [
    "print('\\nDURATION IN EACH CITY')\n",
    "day1 = input('Enter the day:')\n",
    "duration_in_each_city(day1)"
   ]
  },
  {
   "cell_type": "markdown",
   "id": "efb4b7aa",
   "metadata": {},
   "source": [
    "Function 4"
   ]
  },
  {
   "cell_type": "code",
   "execution_count": 12,
   "id": "8c530e7a",
   "metadata": {},
   "outputs": [
    {
     "name": "stdout",
     "output_type": "stream",
     "text": [
      "\n",
      "USERS IN A CITY\n",
      "Enter the name of the city:city5\n",
      "The trips made in the city5 are 43102\n"
     ]
    }
   ],
   "source": [
    "print('\\nUSERS IN A CITY')\n",
    "city1 = input('Enter the name of the city:')\n",
    "users_in_city(city1)"
   ]
  },
  {
   "cell_type": "markdown",
   "id": "b4c61de9",
   "metadata": {},
   "source": [
    "Function 5"
   ]
  },
  {
   "cell_type": "code",
   "execution_count": null,
   "id": "904d7b36",
   "metadata": {},
   "outputs": [],
   "source": [
    "print('\\nTRIPS ON EACH DAY ')\n",
    "city2 = input('Enter the name of the city:')\n",
    "trips_on_each_day(city2)"
   ]
  },
  {
   "cell_type": "markdown",
   "id": "e9a8f206",
   "metadata": {},
   "source": [
    "Function 6"
   ]
  },
  {
   "cell_type": "code",
   "execution_count": 13,
   "id": "db8b2584",
   "metadata": {},
   "outputs": [
    {
     "name": "stdout",
     "output_type": "stream",
     "text": [
      "\n",
      "MOST POPULAR LOCATION \n",
      "Enter the name of the city:city5\n",
      "The most popular stop of the city5 is: stop419 with 1073 stops\n"
     ]
    }
   ],
   "source": [
    "print('\\nMOST POPULAR LOCATION ')\n",
    "city3 = input('Enter the name of the city:')\n",
    "most_popular_start(city3)"
   ]
  }
 ],
 "metadata": {
  "kernelspec": {
   "display_name": "Python 3 (ipykernel)",
   "language": "python",
   "name": "python3"
  },
  "language_info": {
   "codemirror_mode": {
    "name": "ipython",
    "version": 3
   },
   "file_extension": ".py",
   "mimetype": "text/x-python",
   "name": "python",
   "nbconvert_exporter": "python",
   "pygments_lexer": "ipython3",
   "version": "3.9.5"
  }
 },
 "nbformat": 4,
 "nbformat_minor": 5
}
